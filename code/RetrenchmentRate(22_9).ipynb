{
  "nbformat": 4,
  "nbformat_minor": 0,
  "metadata": {
    "colab": {
      "provenance": [],
      "collapsed_sections": []
    },
    "kernelspec": {
      "name": "python3",
      "display_name": "Python 3"
    },
    "language_info": {
      "name": "python"
    }
  },
  "cells": [
    {
      "cell_type": "code",
      "execution_count": 77,
      "metadata": {
        "id": "iZ75y7tAXTPB"
      },
      "outputs": [],
      "source": [
        "import pandas as pd\n",
        "import numpy as np\n",
        "# import matplotlib.pyplot as plt"
      ]
    },
    {
      "cell_type": "code",
      "source": [
        "# Read retrenchment data\n",
        "df = pd.read_csv(\"retrench_occ_yearly.csv\")\n",
        "# print(\"Retrenchment data read successfully!\")"
      ],
      "metadata": {
        "id": "I5bJJbDCXfvk"
      },
      "execution_count": 78,
      "outputs": []
    },
    {
      "cell_type": "code",
      "source": [
        "df.describe"
      ],
      "metadata": {
        "colab": {
          "base_uri": "https://localhost:8080/"
        },
        "id": "mNyjcU1-QW71",
        "outputId": "6c577c04-342f-429f-cfbf-dfbe4bc0aadb"
      },
      "execution_count": 79,
      "outputs": [
        {
          "output_type": "execute_result",
          "data": {
            "text/plain": [
              "<bound method NDFrame.describe of     year                                         occupation  retrench\n",
              "0   1998  professional, managers, executive and technicians      6100\n",
              "1   1998               clerical, sales and services workers      5440\n",
              "2   1998  production and transport operators, cleaners a...     21260\n",
              "3   1999  professional, managers, executive and technicians      3650\n",
              "4   1999               clerical, sales and services workers      3620\n",
              "..   ...                                                ...       ...\n",
              "67  2020               clerical, sales and services workers      8140\n",
              "68  2020  production and transport operators, cleaners a...      5220\n",
              "69  2021  professional, managers, executive and technicians      5870\n",
              "70  2021               clerical, sales and services workers      1220\n",
              "71  2021  production and transport operators, cleaners a...       940\n",
              "\n",
              "[72 rows x 3 columns]>"
            ]
          },
          "metadata": {},
          "execution_count": 79
        }
      ]
    },
    {
      "cell_type": "code",
      "source": [
        "null = df.isna().sum()\n",
        "# print(null)"
      ],
      "metadata": {
        "id": "UrOiVK_bkw2a"
      },
      "execution_count": 80,
      "outputs": []
    },
    {
      "cell_type": "code",
      "source": [
        "# Print in the recent 10 years from 2012 to 2021\n",
        "df2 = df.loc[(df['year'] >= 2012) & (df['year'] <= 2021)]\n",
        "print(df2)"
      ],
      "metadata": {
        "colab": {
          "base_uri": "https://localhost:8080/"
        },
        "id": "pbCHT0ADXmnb",
        "outputId": "fa9534da-ce2b-4c58-d7e8-707f675e2584"
      },
      "execution_count": 81,
      "outputs": [
        {
          "output_type": "stream",
          "name": "stdout",
          "text": [
            "    year                                         occupation  retrench\n",
            "42  2012  professional, managers, executive and technicians      5960\n",
            "43  2012               clerical, sales and services workers      1480\n",
            "44  2012  production and transport operators, cleaners a...      3570\n",
            "45  2013  professional, managers, executive and technicians      6430\n",
            "46  2013               clerical, sales and services workers      1140\n",
            "47  2013  production and transport operators, cleaners a...      4000\n",
            "48  2014  professional, managers, executive and technicians      6530\n",
            "49  2014               clerical, sales and services workers      1860\n",
            "50  2014  production and transport operators, cleaners a...      4540\n",
            "51  2015  professional, managers, executive and technicians      8550\n",
            "52  2015               clerical, sales and services workers      1550\n",
            "53  2015  production and transport operators, cleaners a...      5480\n",
            "54  2016  professional, managers, executive and technicians     10890\n",
            "55  2016               clerical, sales and services workers      2100\n",
            "56  2016  production and transport operators, cleaners a...      6190\n",
            "57  2017  professional, managers, executive and technicians      8700\n",
            "58  2017               clerical, sales and services workers      1550\n",
            "59  2017  production and transport operators, cleaners a...      4480\n",
            "60  2018  professional, managers, executive and technicians      6980\n",
            "61  2018               clerical, sales and services workers      1230\n",
            "62  2018  production and transport operators, cleaners a...      2510\n",
            "63  2019  professional, managers, executive and technicians      6500\n",
            "64  2019               clerical, sales and services workers      1420\n",
            "65  2019  production and transport operators, cleaners a...      2770\n",
            "66  2020  professional, managers, executive and technicians     12750\n",
            "67  2020               clerical, sales and services workers      8140\n",
            "68  2020  production and transport operators, cleaners a...      5220\n",
            "69  2021  professional, managers, executive and technicians      5870\n",
            "70  2021               clerical, sales and services workers      1220\n",
            "71  2021  production and transport operators, cleaners a...       940\n"
          ]
        }
      ]
    },
    {
      "cell_type": "code",
      "source": [
        "# There are 3 different hierarchy positions\n",
        "df2[\"occupation\"].nunique()"
      ],
      "metadata": {
        "colab": {
          "base_uri": "https://localhost:8080/"
        },
        "id": "mSviixk5XuAc",
        "outputId": "90bf6b0f-7962-4f9c-edbd-e03e28b8b0a1"
      },
      "execution_count": 85,
      "outputs": [
        {
          "output_type": "execute_result",
          "data": {
            "text/plain": [
              "3"
            ]
          },
          "metadata": {},
          "execution_count": 85
        }
      ]
    },
    {
      "cell_type": "code",
      "source": [
        "#These are the most common job titles that are being retrenched from 2012 to 2021\n",
        "df4 = print(df2[\"occupation\"].unique())"
      ],
      "metadata": {
        "colab": {
          "base_uri": "https://localhost:8080/"
        },
        "id": "dIvHSFtfbIq9",
        "outputId": "5c317cd2-1fab-404d-9dd3-c705f187f97d"
      },
      "execution_count": 86,
      "outputs": [
        {
          "output_type": "stream",
          "name": "stdout",
          "text": [
            "['professional, managers, executive and technicians'\n",
            " 'clerical, sales and services workers'\n",
            " 'production and transport operators, cleaners and labourers']\n"
          ]
        }
      ]
    },
    {
      "cell_type": "code",
      "source": [
        "# Selected 2012 data as an example:\n",
        "# Noticed that the higher-tiered job titles has more people being retrenched as compared to the medium-tiered and low-tiered\n",
        "# Could be due to the high upkeep positions, that requires them to be paid more than the other tiers\n",
        "\n",
        "print(df2[df2[\"year\"] == 2012])"
      ],
      "metadata": {
        "colab": {
          "base_uri": "https://localhost:8080/"
        },
        "id": "4767vnmddift",
        "outputId": "4be32519-04ea-48c9-b5e9-c29c293fba22"
      },
      "execution_count": 88,
      "outputs": [
        {
          "output_type": "stream",
          "name": "stdout",
          "text": [
            "    year                                         occupation  retrench\n",
            "42  2012  professional, managers, executive and technicians      5960\n",
            "43  2012               clerical, sales and services workers      1480\n",
            "44  2012  production and transport operators, cleaners a...      3570\n"
          ]
        }
      ]
    },
    {
      "cell_type": "code",
      "source": [
        "# Sort the retrenchment rate from the lowest to the highest value\n",
        "df5 = df2.sort_values(by = ['retrench'])\n",
        "print(df5)"
      ],
      "metadata": {
        "id": "seQmE4B6eCxJ",
        "colab": {
          "base_uri": "https://localhost:8080/"
        },
        "outputId": "f3a03ef8-e092-4467-bfe8-2356f41b513a"
      },
      "execution_count": 89,
      "outputs": [
        {
          "output_type": "stream",
          "name": "stdout",
          "text": [
            "    year                                         occupation  retrench\n",
            "71  2021  production and transport operators, cleaners a...       940\n",
            "46  2013               clerical, sales and services workers      1140\n",
            "70  2021               clerical, sales and services workers      1220\n",
            "61  2018               clerical, sales and services workers      1230\n",
            "64  2019               clerical, sales and services workers      1420\n",
            "43  2012               clerical, sales and services workers      1480\n",
            "52  2015               clerical, sales and services workers      1550\n",
            "58  2017               clerical, sales and services workers      1550\n",
            "49  2014               clerical, sales and services workers      1860\n",
            "55  2016               clerical, sales and services workers      2100\n",
            "62  2018  production and transport operators, cleaners a...      2510\n",
            "65  2019  production and transport operators, cleaners a...      2770\n",
            "44  2012  production and transport operators, cleaners a...      3570\n",
            "47  2013  production and transport operators, cleaners a...      4000\n",
            "59  2017  production and transport operators, cleaners a...      4480\n",
            "50  2014  production and transport operators, cleaners a...      4540\n",
            "68  2020  production and transport operators, cleaners a...      5220\n",
            "53  2015  production and transport operators, cleaners a...      5480\n",
            "69  2021  professional, managers, executive and technicians      5870\n",
            "42  2012  professional, managers, executive and technicians      5960\n",
            "56  2016  production and transport operators, cleaners a...      6190\n",
            "45  2013  professional, managers, executive and technicians      6430\n",
            "63  2019  professional, managers, executive and technicians      6500\n",
            "48  2014  professional, managers, executive and technicians      6530\n",
            "60  2018  professional, managers, executive and technicians      6980\n",
            "67  2020               clerical, sales and services workers      8140\n",
            "51  2015  professional, managers, executive and technicians      8550\n",
            "57  2017  professional, managers, executive and technicians      8700\n",
            "54  2016  professional, managers, executive and technicians     10890\n",
            "66  2020  professional, managers, executive and technicians     12750\n"
          ]
        }
      ]
    },
    {
      "cell_type": "code",
      "source": [
        "# Let's take a look at the highest-tier 'professional, managers, executive and technicians', for example:\n",
        "# As reflected in the data, 2020 is the peak of the pandemic outbreak \n",
        "# 2020 has the highest retrenchment rate amongst the recent 10 years while by 2021, it is the lowest (recovered)\n",
        "df6 = print(df5[df5['occupation'] == 'professional, managers, executive and technicians'])"
      ],
      "metadata": {
        "colab": {
          "base_uri": "https://localhost:8080/"
        },
        "id": "852Bz1Q4b1KW",
        "outputId": "6bd6922c-c64e-41be-8326-3095c4e6a891"
      },
      "execution_count": 90,
      "outputs": [
        {
          "output_type": "stream",
          "name": "stdout",
          "text": [
            "    year                                         occupation  retrench\n",
            "69  2021  professional, managers, executive and technicians      5870\n",
            "42  2012  professional, managers, executive and technicians      5960\n",
            "45  2013  professional, managers, executive and technicians      6430\n",
            "63  2019  professional, managers, executive and technicians      6500\n",
            "48  2014  professional, managers, executive and technicians      6530\n",
            "60  2018  professional, managers, executive and technicians      6980\n",
            "51  2015  professional, managers, executive and technicians      8550\n",
            "57  2017  professional, managers, executive and technicians      8700\n",
            "54  2016  professional, managers, executive and technicians     10890\n",
            "66  2020  professional, managers, executive and technicians     12750\n"
          ]
        },
        {
          "output_type": "stream",
          "name": "stderr",
          "text": [
            "/usr/local/lib/python3.7/dist-packages/ipykernel_launcher.py:4: UserWarning: Boolean Series key will be reindexed to match DataFrame index.\n",
            "  after removing the cwd from sys.path.\n"
          ]
        }
      ]
    },
    {
      "cell_type": "code",
      "source": [
        "# Let's take a look at the medium-tier 'clerical, sales and services workers', for example:\n",
        "# As reflected in the data, 2020 is the peak of the pandemic outbreak \n",
        "# 2020 has the highest retrenchment rate amongst the recent 10 years and in 2013, it is the lowest\n",
        "df7 = print(df5[df5['occupation'] == 'clerical, sales and services workers'])"
      ],
      "metadata": {
        "colab": {
          "base_uri": "https://localhost:8080/"
        },
        "id": "u9UCxfBqA31I",
        "outputId": "b805a045-a349-4d38-82c6-75247fd908ea"
      },
      "execution_count": 91,
      "outputs": [
        {
          "output_type": "stream",
          "name": "stdout",
          "text": [
            "    year                            occupation  retrench\n",
            "46  2013  clerical, sales and services workers      1140\n",
            "70  2021  clerical, sales and services workers      1220\n",
            "61  2018  clerical, sales and services workers      1230\n",
            "64  2019  clerical, sales and services workers      1420\n",
            "43  2012  clerical, sales and services workers      1480\n",
            "52  2015  clerical, sales and services workers      1550\n",
            "58  2017  clerical, sales and services workers      1550\n",
            "49  2014  clerical, sales and services workers      1860\n",
            "55  2016  clerical, sales and services workers      2100\n",
            "67  2020  clerical, sales and services workers      8140\n"
          ]
        },
        {
          "output_type": "stream",
          "name": "stderr",
          "text": [
            "/usr/local/lib/python3.7/dist-packages/ipykernel_launcher.py:4: UserWarning: Boolean Series key will be reindexed to match DataFrame index.\n",
            "  after removing the cwd from sys.path.\n"
          ]
        }
      ]
    },
    {
      "cell_type": "code",
      "source": [
        "# Let's take a look at the lowest-tier 'production and transport operators, cleaners and labourers', for example:\n",
        "# As reflected in the data, 2020 is the peak of the pandemic outbreak \n",
        "# 2020 is one of the highest retrenchment rate amongst the recent 10 years while by 2021, it is the lowest (recovered)\n",
        "\n",
        "# It could be due to the fact of it being under a 'lower-paying' job as compared to the higher-tiered and medium-tiered jobs\n",
        "# Hence, the lower-tiered job will not have as much impact to companies as compared to the higher-paid ones\n",
        "# Therefore, letting go of '1 Manager' == letting go of '3 Cleaners'\n",
        "\n",
        "df8 = print(df5[df5['occupation'] =='production and transport operators, cleaners and labourers'])"
      ],
      "metadata": {
        "colab": {
          "base_uri": "https://localhost:8080/"
        },
        "id": "mVkZXGRNA4AM",
        "outputId": "f8433647-dc43-4abb-dfb4-b5daa3b9ba43"
      },
      "execution_count": 92,
      "outputs": [
        {
          "output_type": "stream",
          "name": "stdout",
          "text": [
            "    year                                         occupation  retrench\n",
            "71  2021  production and transport operators, cleaners a...       940\n",
            "62  2018  production and transport operators, cleaners a...      2510\n",
            "65  2019  production and transport operators, cleaners a...      2770\n",
            "44  2012  production and transport operators, cleaners a...      3570\n",
            "47  2013  production and transport operators, cleaners a...      4000\n",
            "59  2017  production and transport operators, cleaners a...      4480\n",
            "50  2014  production and transport operators, cleaners a...      4540\n",
            "68  2020  production and transport operators, cleaners a...      5220\n",
            "53  2015  production and transport operators, cleaners a...      5480\n",
            "56  2016  production and transport operators, cleaners a...      6190\n"
          ]
        },
        {
          "output_type": "stream",
          "name": "stderr",
          "text": [
            "/usr/local/lib/python3.7/dist-packages/ipykernel_launcher.py:9: UserWarning: Boolean Series key will be reindexed to match DataFrame index.\n",
            "  if __name__ == '__main__':\n"
          ]
        }
      ]
    },
    {
      "cell_type": "code",
      "source": [
        "# Option 3: Look at the retrenchment rate after Covid-19. \n",
        "# Option 2: Look at the retrenchment rate during Covid-19. \n",
        "# Option 1: Look at the retrenchment rate before Covid-19."
      ],
      "metadata": {
        "id": "N6XZZS6_lPfY"
      },
      "execution_count": null,
      "outputs": []
    },
    {
      "cell_type": "code",
      "source": [
        "# Option a). Look at the retrenchment rate before Covid-19.\n",
        "df9 = df5.loc[(df['year'] >= 2012) & (df['year'] <= 2019)]\n",
        "print(df9)"
      ],
      "metadata": {
        "colab": {
          "base_uri": "https://localhost:8080/"
        },
        "id": "N-ayltNV1Mq2",
        "outputId": "7c99b4a9-cd26-4f51-9ff5-875c4b819592"
      },
      "execution_count": 99,
      "outputs": [
        {
          "output_type": "stream",
          "name": "stdout",
          "text": [
            "    year                                         occupation  retrench\n",
            "46  2013               clerical, sales and services workers      1140\n",
            "61  2018               clerical, sales and services workers      1230\n",
            "64  2019               clerical, sales and services workers      1420\n",
            "43  2012               clerical, sales and services workers      1480\n",
            "52  2015               clerical, sales and services workers      1550\n",
            "58  2017               clerical, sales and services workers      1550\n",
            "49  2014               clerical, sales and services workers      1860\n",
            "55  2016               clerical, sales and services workers      2100\n",
            "62  2018  production and transport operators, cleaners a...      2510\n",
            "65  2019  production and transport operators, cleaners a...      2770\n",
            "44  2012  production and transport operators, cleaners a...      3570\n",
            "47  2013  production and transport operators, cleaners a...      4000\n",
            "59  2017  production and transport operators, cleaners a...      4480\n",
            "50  2014  production and transport operators, cleaners a...      4540\n",
            "53  2015  production and transport operators, cleaners a...      5480\n",
            "42  2012  professional, managers, executive and technicians      5960\n",
            "56  2016  production and transport operators, cleaners a...      6190\n",
            "45  2013  professional, managers, executive and technicians      6430\n",
            "63  2019  professional, managers, executive and technicians      6500\n",
            "48  2014  professional, managers, executive and technicians      6530\n",
            "60  2018  professional, managers, executive and technicians      6980\n",
            "51  2015  professional, managers, executive and technicians      8550\n",
            "57  2017  professional, managers, executive and technicians      8700\n",
            "54  2016  professional, managers, executive and technicians     10890\n"
          ]
        }
      ]
    },
    {
      "cell_type": "code",
      "source": [
        "# Option b). Look at the retrenchment rate during Covid-19.\n",
        "df10 = df5.loc[(df['year'] == 2020)]\n",
        "print(df10)"
      ],
      "metadata": {
        "colab": {
          "base_uri": "https://localhost:8080/"
        },
        "id": "MghFk6hX19_q",
        "outputId": "bf86a759-d7eb-48d2-fb09-0a0d7483f1e5"
      },
      "execution_count": 100,
      "outputs": [
        {
          "output_type": "stream",
          "name": "stdout",
          "text": [
            "    year                                         occupation  retrench\n",
            "68  2020  production and transport operators, cleaners a...      5220\n",
            "67  2020               clerical, sales and services workers      8140\n",
            "66  2020  professional, managers, executive and technicians     12750\n"
          ]
        }
      ]
    },
    {
      "cell_type": "code",
      "source": [
        "# Option c). Look at the retrenchment rate for the post-recovery Covid-19.\n",
        "df11 = df5.loc[(df['year'] == 2021)]\n",
        "print(df11)"
      ],
      "metadata": {
        "colab": {
          "base_uri": "https://localhost:8080/"
        },
        "id": "X2bb3Q472K2x",
        "outputId": "30c63eaf-7824-4d11-8005-20597e923f03"
      },
      "execution_count": 101,
      "outputs": [
        {
          "output_type": "stream",
          "name": "stdout",
          "text": [
            "    year                                         occupation  retrench\n",
            "71  2021  production and transport operators, cleaners a...       940\n",
            "70  2021               clerical, sales and services workers      1220\n",
            "69  2021  professional, managers, executive and technicians      5870\n"
          ]
        }
      ]
    }
  ]
}