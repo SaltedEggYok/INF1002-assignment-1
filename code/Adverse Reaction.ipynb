{
 "cells": [
  {
   "cell_type": "code",
   "execution_count": 1,
   "id": "da4f7932",
   "metadata": {},
   "outputs": [],
   "source": [
    "import pandas as pd                                                         #to clean and filter data\n",
    "import numpy as np                                                         #for using data as array\n",
    "import matplotlib.pyplot as plt                                           #for plotting graph of x,y\n",
    "\n",
    "import sklearn\n",
    "from sklearn import datasets, linear_model                               #for model we want to predict by\n",
    "from sklearn.linear_model import LinearRegression                       #for model we want to predict by\n",
    "from sklearn.metrics import mean_squared_error, r2_score               #for mean error and variance calculation\n",
    "from sklearn.model_selection import train_test_split                  #spltting training and testing sets"
   ]
  },
  {
   "cell_type": "code",
   "execution_count": 2,
   "id": "299f8a40",
   "metadata": {},
   "outputs": [
    {
     "name": "stderr",
     "output_type": "stream",
     "text": [
      "C:\\Users\\motor\\AppData\\Local\\Temp\\ipykernel_7932\\1704350514.py:3: DtypeWarning: Columns (24,29,32,40,48) have mixed types. Specify dtype option on import or set low_memory=False.\n",
      "  world = pd.read_csv(r'C:\\Users\\motor\\OneDrive\\Desktop\\SIT Y1S1\\dataset\\adverse reaction\\vaers_jan_nov_2021.csv')\n"
     ]
    }
   ],
   "source": [
    "#retrieving and reading CSV using pandas library\n",
    "\n",
    "world = pd.read_csv(r'C:\\Users\\motor\\OneDrive\\Desktop\\SIT Y1S1\\dataset\\adverse reaction\\vaers_jan_nov_2021.csv')\n",
    "features = pd.read_csv(r'C:\\Users\\motor\\OneDrive\\Desktop\\SIT Y1S1\\dataset\\adverse reaction\\Features.csv')\n",
    "\n",
    "\n",
    "#displays up to 50 columns\n",
    "\n",
    "pd.set_option('display.max_columns', 50)   \n",
    "\n",
    "#displays up to 200 rows\n",
    "\n",
    "pd.set_option('display.max_rows', 200)"
   ]
  },
  {
   "cell_type": "code",
   "execution_count": null,
   "id": "275beabd",
   "metadata": {},
   "outputs": [],
   "source": [
    "world.info()"
   ]
  },
  {
   "cell_type": "code",
   "execution_count": 3,
   "id": "9ee06286",
   "metadata": {},
   "outputs": [],
   "source": [
    "df2 = world.drop(world.columns[[0,1,2,3,4,5,6,7,8,9,10,11,12,13,15,16,17,18,19,20,21,22,23,24,25,27,28,29,30,31,32,33,35,36,37,38,39,40,41,42,43,44,45,46,47,48,49,50,51]],axis = 1)"
   ]
  },
  {
   "cell_type": "code",
   "execution_count": 4,
   "id": "08cf27a0",
   "metadata": {},
   "outputs": [
    {
     "data": {
      "text/plain": [
       "VAX_DOSE_SERIES  DIED\n",
       "1                Y       7237\n",
       "2                Y       5748\n",
       "3                Y        164\n",
       "5                Y         12\n",
       "6                Y          1\n",
       "7+               Y          8\n",
       "UNK              Y       2616\n",
       "Name: DIED, dtype: int64"
      ]
     },
     "execution_count": 4,
     "metadata": {},
     "output_type": "execute_result"
    }
   ],
   "source": [
    "count = df2.groupby(['VAX_DOSE_SERIES'])\n",
    "count['DIED'].value_counts()"
   ]
  },
  {
   "cell_type": "code",
   "execution_count": 5,
   "id": "6495e0a0",
   "metadata": {},
   "outputs": [
    {
     "data": {
      "text/plain": [
       "VAX_DOSE_SERIES  RECOVD\n",
       "1                N         172336\n",
       "                 Y         152680\n",
       "                 U         104516\n",
       "2                N         119572\n",
       "                 Y          89045\n",
       "                 U          48383\n",
       "3                N           6217\n",
       "                 Y           5922\n",
       "                 U           3556\n",
       "4                U            101\n",
       "                 Y             92\n",
       "                 N             46\n",
       "5                Y             87\n",
       "                 N             63\n",
       "                 U             37\n",
       "6                Y             45\n",
       "                 N             26\n",
       "                 U             24\n",
       "7+               Y            114\n",
       "                 N             83\n",
       "                 U             45\n",
       "UNK              N          50729\n",
       "                 Y          32763\n",
       "                 U          27881\n",
       "Name: RECOVD, dtype: int64"
      ]
     },
     "execution_count": 5,
     "metadata": {},
     "output_type": "execute_result"
    }
   ],
   "source": [
    "count['RECOVD'].value_counts()"
   ]
  },
  {
   "cell_type": "code",
   "execution_count": 6,
   "id": "b3eb474b",
   "metadata": {},
   "outputs": [],
   "source": [
    "#number of people with 1 dose and adverse reaction = 172336+152680+104516 = 429532\n",
    "#number of people with 2 dose and adverse reaction = 119572+89045+48383 = 257000\n",
    "#number of people with 3 dose and adverse reaction = 6217+5922+3556 = 15695\n",
    "\n",
    "#percentage of people dying with 1 dose and adverse reaction = 1.6%\n",
    "#percentage of people dying with 2 dose and adverse reaction = 2.23%\n",
    "#percentage of people dying with 3 dose and adverse reaction = 1.04%"
   ]
  },
  {
   "cell_type": "code",
   "execution_count": 7,
   "id": "ba6a64ae",
   "metadata": {},
   "outputs": [
    {
     "name": "stdout",
     "output_type": "stream",
     "text": [
      "          Number_of_people_with_adverse_reaction  \\\n",
      "1st Dose                                  429532   \n",
      "2nd Dose                                  257000   \n",
      "3rd Dose                                   15695   \n",
      "\n",
      "          %_of_people_died_with_adverse_reaction  \n",
      "1st Dose                                    1.60  \n",
      "2nd Dose                                    2.23  \n",
      "3rd Dose                                    1.04  \n"
     ]
    }
   ],
   "source": [
    "# assign values to lists  \n",
    "data = [{'Number_of_people_with_adverse_reaction': 429532, '%_of_people_died_with_adverse_reaction': 1.6}, {'Number_of_people_with_adverse_reaction': 257000, '%_of_people_died_with_adverse_reaction': 2.23},{'Number_of_people_with_adverse_reaction':15695, '%_of_people_died_with_adverse_reaction': 1.04}]  \n",
    "  \n",
    "# Creates padas DataFrame by passing  \n",
    "# Lists of dictionaries and row index.  \n",
    "dframe = pd.DataFrame(data, index =['1st Dose', '2nd Dose', '3rd Dose'])  \n",
    "  \n",
    "# Print the dataframe  \n",
    "print(dframe)  "
   ]
  },
  {
   "cell_type": "code",
   "execution_count": 8,
   "id": "46591310",
   "metadata": {},
   "outputs": [
    {
     "data": {
      "image/png": "[encoded data removed]",
      "text/plain": [
       "<Figure size 432x288 with 1 Axes>"
      ]
     },
     "metadata": {
      "needs_background": "light"
     },
     "output_type": "display_data"
    }
   ],
   "source": [
    "Number_of_people_with_adverse_reaction = [429532, 257000]\n",
    "Number_of_people_died_with_adverse_reaction = [7237, 5748]\n",
    "index = ['1st Dose', '2nd Dose']\n",
    "df = pd.DataFrame({'Number_of_people_with_adverse_reaction': Number_of_people_with_adverse_reaction,\n",
    "                   'Number_of_people_died_with_adverse_reaction': Number_of_people_died_with_adverse_reaction}, index=index)\n",
    "ax = df.plot.bar(rot=0)"
   ]
  },
  {
   "cell_type": "code",
   "execution_count": 9,
   "id": "8a166561",
   "metadata": {},
   "outputs": [
    {
     "data": {
      "image/png": "[encoded data removed]",
      "text/plain": [
       "<Figure size 432x288 with 1 Axes>"
      ]
     },
     "metadata": {
      "needs_background": "light"
     },
     "output_type": "display_data"
    }
   ],
   "source": [
    "Number_of_people_with_adverse_reaction = [15695]\n",
    "Number_of_people_died_with_adverse_reaction = [164]\n",
    "index = ['3rd Dose']\n",
    "df = pd.DataFrame({'Number_of_people_with_adverse_reaction': Number_of_people_with_adverse_reaction,\n",
    "                   'Number_of_people_died_with_adverse_reaction': Number_of_people_died_with_adverse_reaction}, index=index)\n",
    "ax = df.plot.bar(rot=0)"
   ]
  },
  {
   "cell_type": "code",
   "execution_count": null,
   "id": "c5a43191",
   "metadata": {},
   "outputs": [],
   "source": [
    "#The death rate is very low (1-2%) despite having symptons and adverse reaction from vaccionation (1 to 3 doses)."
   ]
  }
 ],
 "metadata": {
  "kernelspec": {
   "display_name": "Python 3 (ipykernel)",
   "language": "python",
   "name": "python3"
  },
  "language_info": {
   "codemirror_mode": {
    "name": "ipython",
    "version": 3
   },
   "file_extension": ".py",
   "mimetype": "text/x-python",
   "name": "python",
   "nbconvert_exporter": "python",
   "pygments_lexer": "ipython3",
   "version": "3.9.12"
  },
  "vscode": {
   "interpreter": {
    "hash": "346efcd855950dbfbfc83044f5c9101d93544200aae39e4c83de79ad9f2754a3"
   }
  }
 },
 "nbformat": 4,
 "nbformat_minor": 5
}
