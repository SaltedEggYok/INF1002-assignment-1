{
 "cells": [
  {
   "cell_type": "code",
   "execution_count": 1,
   "id": "da4f7932",
   "metadata": {},
   "outputs": [],
   "source": [
    "import pandas as pd\n",
    "import numpy as np\n"
   ]
  },
  {
   "cell_type": "code",
   "execution_count": 2,
   "id": "f7b22293",
   "metadata": {},
   "outputs": [],
   "source": [
    "vaccine = pd.read_csv(r'country_vaccinations.csv') #delete this?\n",
    "pd.set_option('display.max_columns', 50000) \n",
    "pd.set_option('display.max_rows', 50000)"
   ]
  },
  {
   "cell_type": "code",
   "execution_count": 3,
   "id": "92b8fa7f",
   "metadata": {
    "scrolled": true
   },
   "outputs": [
    {
     "name": "stdout",
     "output_type": "stream",
     "text": [
      "<class 'pandas.core.frame.DataFrame'>\n",
      "RangeIndex: 86512 entries, 0 to 86511\n",
      "Data columns (total 15 columns):\n",
      " #   Column                               Non-Null Count  Dtype  \n",
      "---  ------                               --------------  -----  \n",
      " 0   country                              86512 non-null  object \n",
      " 1   iso_code                             86512 non-null  object \n",
      " 2   date                                 86512 non-null  object \n",
      " 3   total_vaccinations                   43607 non-null  float64\n",
      " 4   people_vaccinated                    41294 non-null  float64\n",
      " 5   people_fully_vaccinated              38802 non-null  float64\n",
      " 6   daily_vaccinations_raw               35362 non-null  float64\n",
      " 7   daily_vaccinations                   86213 non-null  float64\n",
      " 8   total_vaccinations_per_hundred       43607 non-null  float64\n",
      " 9   people_vaccinated_per_hundred        41294 non-null  float64\n",
      " 10  people_fully_vaccinated_per_hundred  38802 non-null  float64\n",
      " 11  daily_vaccinations_per_million       86213 non-null  float64\n",
      " 12  vaccines                             86512 non-null  object \n",
      " 13  source_name                          86512 non-null  object \n",
      " 14  source_website                       86512 non-null  object \n",
      "dtypes: float64(9), object(6)\n",
      "memory usage: 9.9+ MB\n"
     ]
    }
   ],
   "source": [
    "vaccine.info()"
   ]
  },
  {
   "cell_type": "code",
   "execution_count": 17,
   "id": "281b2c96",
   "metadata": {},
   "outputs": [],
   "source": [
    "singapore = vaccine.groupby(['country'])"
   ]
  },
  {
   "cell_type": "code",
   "execution_count": 18,
   "id": "d9c47ed1",
   "metadata": {},
   "outputs": [],
   "source": [
    "a = singapore.get_group('Singapore')"
   ]
  },
  {
   "cell_type": "code",
   "execution_count": 23,
   "id": "75a158ec",
   "metadata": {},
   "outputs": [
    {
     "data": {
      "text/plain": [
       "Moderna, Pfizer/BioNTech, Sinopharm/Beijing, Sinovac    454\n",
       "Name: vaccines, dtype: int64"
      ]
     },
     "execution_count": 23,
     "metadata": {},
     "output_type": "execute_result"
    }
   ],
   "source": [
    "a['vaccines'].value_counts()"
   ]
  },
  {
   "cell_type": "code",
   "execution_count": null,
   "id": "a93c7f16",
   "metadata": {},
   "outputs": [],
   "source": []
  }
 ],
 "metadata": {
  "kernelspec": {
   "display_name": "Python 3.10.6 64-bit",
   "language": "python",
   "name": "python3"
  },
  "language_info": {
   "codemirror_mode": {
    "name": "ipython",
    "version": 3
   },
   "file_extension": ".py",
   "mimetype": "text/x-python",
   "name": "python",
   "nbconvert_exporter": "python",
   "pygments_lexer": "ipython3",
   "version": "3.10.6"
  },
  "vscode": {
   "interpreter": {
    "hash": "346efcd855950dbfbfc83044f5c9101d93544200aae39e4c83de79ad9f2754a3"
   }
  }
 },
 "nbformat": 4,
 "nbformat_minor": 5
}
