{
 "cells": [
  {
   "cell_type": "code",
   "execution_count": 1,
   "id": "da4f7932",
   "metadata": {},
   "outputs": [],
   "source": [
    "import pandas as pd\n",
    "import numpy as np\n"
   ]
  },
  {
   "cell_type": "code",
   "execution_count": 2,
   "id": "f7b22293",
   "metadata": {},
   "outputs": [],
   "source": [
    "world = pd.read_csv(r'owid-covid-data.csv') #delete this?"
   ]
  },
  {
   "cell_type": "code",
   "execution_count": 4,
   "id": "675cc95c",
   "metadata": {},
   "outputs": [],
   "source": [
    "world.drop(world.iloc[:, 38:66], axis = 1, inplace = True)"
   ]
  },
  {
   "cell_type": "code",
   "execution_count": 23,
   "id": "7b4d4381",
   "metadata": {},
   "outputs": [],
   "source": [
    "a = world.groupby(\"location\")\n",
    "b = a['total_vaccinations'].max()"
   ]
  },
  {
   "cell_type": "code",
   "execution_count": 28,
   "id": "04ace0b7",
   "metadata": {},
   "outputs": [],
   "source": [
    "pd.set_option('display.max_rows', 50000)"
   ]
  },
  {
   "cell_type": "code",
   "execution_count": 31,
   "id": "2aa7a06f",
   "metadata": {},
   "outputs": [],
   "source": [
    "nonan = b.dropna()"
   ]
  },
  {
   "cell_type": "code",
   "execution_count": 34,
   "id": "372d95d5",
   "metadata": {},
   "outputs": [],
   "source": [
    "top = nonan.sort_values()"
   ]
  },
  {
   "cell_type": "code",
   "execution_count": 36,
   "id": "a223d85d",
   "metadata": {},
   "outputs": [
    {
     "data": {
      "text/plain": [
       "location\n",
       "World                  1.266132e+10\n",
       "Asia                   8.656908e+09\n",
       "Upper middle income    5.282938e+09\n",
       "Lower middle income    4.547805e+09\n",
       "China                  3.434774e+09\n",
       "High income            2.613936e+09\n",
       "India                  2.157151e+09\n",
       "Europe                 1.322920e+09\n",
       "North America          1.051475e+09\n",
       "South America          9.234121e+08\n",
       "European Union         8.996462e+08\n",
       "Africa                 6.314975e+08\n",
       "United States          6.106866e+08\n",
       "Brazil                 4.715411e+08\n",
       "Indonesia              4.356831e+08\n",
       "Japan                  3.195958e+08\n",
       "Bangladesh             2.971058e+08\n",
       "Pakistan               2.946281e+08\n",
       "Vietnam                2.573519e+08\n",
       "Low income             2.165556e+08\n",
       "Name: total_vaccinations, dtype: float64"
      ]
     },
     "execution_count": 36,
     "metadata": {},
     "output_type": "execute_result"
    }
   ],
   "source": [
    "top.nlargest(20) #top 20 'countries' with number of vaccination. this is not rate!"
   ]
  },
  {
   "cell_type": "code",
   "execution_count": null,
   "id": "32b59f13",
   "metadata": {},
   "outputs": [],
   "source": []
  },
  {
   "cell_type": "code",
   "execution_count": null,
   "id": "5ec2b64f",
   "metadata": {},
   "outputs": [],
   "source": []
  },
  {
   "cell_type": "code",
   "execution_count": null,
   "id": "a04bdd88",
   "metadata": {},
   "outputs": [],
   "source": []
  }
 ],
 "metadata": {
  "kernelspec": {
   "display_name": "Python 3.10.6 64-bit",
   "language": "python",
   "name": "python3"
  },
  "language_info": {
   "codemirror_mode": {
    "name": "ipython",
    "version": 3
   },
   "file_extension": ".py",
   "mimetype": "text/x-python",
   "name": "python",
   "nbconvert_exporter": "python",
   "pygments_lexer": "ipython3",
   "version": "3.10.6"
  },
  "vscode": {
   "interpreter": {
    "hash": "346efcd855950dbfbfc83044f5c9101d93544200aae39e4c83de79ad9f2754a3"
   }
  }
 },
 "nbformat": 4,
 "nbformat_minor": 5
}
