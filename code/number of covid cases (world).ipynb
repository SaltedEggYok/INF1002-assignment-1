{
 "cells": [
  {
   "cell_type": "code",
   "execution_count": 4,
   "id": "da4f7932",
   "metadata": {},
   "outputs": [],
   "source": [
    "import pandas as pd\n",
    "import numpy as np\n"
   ]
  },
  {
   "cell_type": "code",
   "execution_count": 24,
   "id": "f7b22293",
   "metadata": {},
   "outputs": [],
   "source": [
    "world = pd.read_csv(r'owid-covid-data.csv') #delete this?\n",
    "pd.set_option('display.max_columns', 50000)"
   ]
  },
  {
   "cell_type": "code",
   "execution_count": 25,
   "id": "4d1ae73b",
   "metadata": {},
   "outputs": [],
   "source": [
    "world.drop(world.iloc[:, 5:66], axis = 1, inplace = True)\n",
    "world.drop(world.iloc[:, 0:2], axis = 1, inplace = True)"
   ]
  },
  {
   "cell_type": "code",
   "execution_count": 26,
   "id": "f9459b22",
   "metadata": {},
   "outputs": [
    {
     "name": "stdout",
     "output_type": "stream",
     "text": [
      "<class 'pandas.core.frame.DataFrame'>\n",
      "RangeIndex: 216106 entries, 0 to 216105\n",
      "Data columns (total 4 columns):\n",
      " #   Column                                   Non-Null Count   Dtype  \n",
      "---  ------                                   --------------   -----  \n",
      " 0   location                                 216106 non-null  object \n",
      " 1   date                                     216106 non-null  object \n",
      " 2   total_cases                              206944 non-null  float64\n",
      " 3   excess_mortality_cumulative_per_million  7271 non-null    float64\n",
      "dtypes: float64(2), object(2)\n",
      "memory usage: 6.6+ MB\n"
     ]
    }
   ],
   "source": [
    "world.info()"
   ]
  },
  {
   "cell_type": "code",
   "execution_count": 27,
   "id": "4633cec6",
   "metadata": {},
   "outputs": [],
   "source": [
    "world.drop('excess_mortality_cumulative_per_million', axis = 1, inplace = True)"
   ]
  },
  {
   "cell_type": "code",
   "execution_count": 37,
   "id": "f26a9ba9",
   "metadata": {},
   "outputs": [],
   "source": [
    "grouped_df = world.groupby(\"location\")"
   ]
  },
  {
   "cell_type": "code",
   "execution_count": 44,
   "id": "bb15316c",
   "metadata": {},
   "outputs": [],
   "source": [
    "maximums = grouped_df.max()\n",
    "maximums = maximums.reset_index()"
   ]
  },
  {
   "cell_type": "code",
   "execution_count": 79,
   "id": "05d67431",
   "metadata": {},
   "outputs": [],
   "source": [
    "B = maximums.nlargest(20, 'total_cases')"
   ]
  },
  {
   "cell_type": "code",
   "execution_count": 80,
   "id": "1f1349c6",
   "metadata": {},
   "outputs": [
    {
     "data": {
      "text/html": [
       "<div>\n",
       "<style scoped>\n",
       "    .dataframe tbody tr th:only-of-type {\n",
       "        vertical-align: middle;\n",
       "    }\n",
       "\n",
       "    .dataframe tbody tr th {\n",
       "        vertical-align: top;\n",
       "    }\n",
       "\n",
       "    .dataframe thead th {\n",
       "        text-align: right;\n",
       "    }\n",
       "</style>\n",
       "<table border=\"1\" class=\"dataframe\">\n",
       "  <thead>\n",
       "    <tr style=\"text-align: right;\">\n",
       "      <th></th>\n",
       "      <th>location</th>\n",
       "      <th>date</th>\n",
       "      <th>total_cases</th>\n",
       "    </tr>\n",
       "  </thead>\n",
       "  <tbody>\n",
       "    <tr>\n",
       "      <th>240</th>\n",
       "      <td>World</td>\n",
       "      <td>2022-09-14</td>\n",
       "      <td>609031330.0</td>\n",
       "    </tr>\n",
       "    <tr>\n",
       "      <th>92</th>\n",
       "      <td>High income</td>\n",
       "      <td>2022-09-14</td>\n",
       "      <td>370217364.0</td>\n",
       "    </tr>\n",
       "    <tr>\n",
       "      <th>68</th>\n",
       "      <td>Europe</td>\n",
       "      <td>2022-09-14</td>\n",
       "      <td>225317247.0</td>\n",
       "    </tr>\n",
       "    <tr>\n",
       "      <th>11</th>\n",
       "      <td>Asia</td>\n",
       "      <td>2022-09-14</td>\n",
       "      <td>182323509.0</td>\n",
       "    </tr>\n",
       "    <tr>\n",
       "      <th>69</th>\n",
       "      <td>European Union</td>\n",
       "      <td>2022-09-14</td>\n",
       "      <td>165147163.0</td>\n",
       "    </tr>\n",
       "    <tr>\n",
       "      <th>231</th>\n",
       "      <td>Upper middle income</td>\n",
       "      <td>2022-09-14</td>\n",
       "      <td>141968089.0</td>\n",
       "    </tr>\n",
       "    <tr>\n",
       "      <th>157</th>\n",
       "      <td>North America</td>\n",
       "      <td>2022-09-14</td>\n",
       "      <td>113067587.0</td>\n",
       "    </tr>\n",
       "    <tr>\n",
       "      <th>229</th>\n",
       "      <td>United States</td>\n",
       "      <td>2022-09-12</td>\n",
       "      <td>95320071.0</td>\n",
       "    </tr>\n",
       "    <tr>\n",
       "      <th>125</th>\n",
       "      <td>Lower middle income</td>\n",
       "      <td>2022-09-14</td>\n",
       "      <td>94912027.0</td>\n",
       "    </tr>\n",
       "    <tr>\n",
       "      <th>201</th>\n",
       "      <td>South America</td>\n",
       "      <td>2022-09-14</td>\n",
       "      <td>63730010.0</td>\n",
       "    </tr>\n",
       "    <tr>\n",
       "      <th>97</th>\n",
       "      <td>India</td>\n",
       "      <td>2022-09-14</td>\n",
       "      <td>44502363.0</td>\n",
       "    </tr>\n",
       "    <tr>\n",
       "      <th>74</th>\n",
       "      <td>France</td>\n",
       "      <td>2022-09-14</td>\n",
       "      <td>34784890.0</td>\n",
       "    </tr>\n",
       "    <tr>\n",
       "      <th>29</th>\n",
       "      <td>Brazil</td>\n",
       "      <td>2022-09-14</td>\n",
       "      <td>34533957.0</td>\n",
       "    </tr>\n",
       "    <tr>\n",
       "      <th>79</th>\n",
       "      <td>Germany</td>\n",
       "      <td>2022-09-14</td>\n",
       "      <td>32507180.0</td>\n",
       "    </tr>\n",
       "    <tr>\n",
       "      <th>202</th>\n",
       "      <td>South Korea</td>\n",
       "      <td>2022-09-14</td>\n",
       "      <td>24099134.0</td>\n",
       "    </tr>\n",
       "    <tr>\n",
       "      <th>228</th>\n",
       "      <td>United Kingdom</td>\n",
       "      <td>2022-09-12</td>\n",
       "      <td>23554519.0</td>\n",
       "    </tr>\n",
       "    <tr>\n",
       "      <th>105</th>\n",
       "      <td>Italy</td>\n",
       "      <td>2022-09-14</td>\n",
       "      <td>22054443.0</td>\n",
       "    </tr>\n",
       "    <tr>\n",
       "      <th>107</th>\n",
       "      <td>Japan</td>\n",
       "      <td>2022-09-12</td>\n",
       "      <td>20209163.0</td>\n",
       "    </tr>\n",
       "    <tr>\n",
       "      <th>179</th>\n",
       "      <td>Russia</td>\n",
       "      <td>2022-09-14</td>\n",
       "      <td>19820622.0</td>\n",
       "    </tr>\n",
       "    <tr>\n",
       "      <th>221</th>\n",
       "      <td>Turkey</td>\n",
       "      <td>2022-09-14</td>\n",
       "      <td>16852382.0</td>\n",
       "    </tr>\n",
       "  </tbody>\n",
       "</table>\n",
       "</div>"
      ],
      "text/plain": [
       "                location        date  total_cases\n",
       "240                World  2022-09-14  609031330.0\n",
       "92           High income  2022-09-14  370217364.0\n",
       "68                Europe  2022-09-14  225317247.0\n",
       "11                  Asia  2022-09-14  182323509.0\n",
       "69        European Union  2022-09-14  165147163.0\n",
       "231  Upper middle income  2022-09-14  141968089.0\n",
       "157        North America  2022-09-14  113067587.0\n",
       "229        United States  2022-09-12   95320071.0\n",
       "125  Lower middle income  2022-09-14   94912027.0\n",
       "201        South America  2022-09-14   63730010.0\n",
       "97                 India  2022-09-14   44502363.0\n",
       "74                France  2022-09-14   34784890.0\n",
       "29                Brazil  2022-09-14   34533957.0\n",
       "79               Germany  2022-09-14   32507180.0\n",
       "202          South Korea  2022-09-14   24099134.0\n",
       "228       United Kingdom  2022-09-12   23554519.0\n",
       "105                Italy  2022-09-14   22054443.0\n",
       "107                Japan  2022-09-12   20209163.0\n",
       "179               Russia  2022-09-14   19820622.0\n",
       "221               Turkey  2022-09-14   16852382.0"
      ]
     },
     "execution_count": 80,
     "metadata": {},
     "output_type": "execute_result"
    }
   ],
   "source": [
    "B"
   ]
  },
  {
   "cell_type": "code",
   "execution_count": null,
   "id": "21007c14",
   "metadata": {},
   "outputs": [],
   "source": []
  }
 ],
 "metadata": {
  "kernelspec": {
   "display_name": "Python 3.10.6 64-bit",
   "language": "python",
   "name": "python3"
  },
  "language_info": {
   "codemirror_mode": {
    "name": "ipython",
    "version": 3
   },
   "file_extension": ".py",
   "mimetype": "text/x-python",
   "name": "python",
   "nbconvert_exporter": "python",
   "pygments_lexer": "ipython3",
   "version": "3.10.6"
  },
  "vscode": {
   "interpreter": {
    "hash": "346efcd855950dbfbfc83044f5c9101d93544200aae39e4c83de79ad9f2754a3"
   }
  }
 },
 "nbformat": 4,
 "nbformat_minor": 5
}
