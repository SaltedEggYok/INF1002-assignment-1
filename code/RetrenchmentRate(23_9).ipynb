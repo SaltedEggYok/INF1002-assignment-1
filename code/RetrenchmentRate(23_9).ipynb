{
  "nbformat": 4,
  "nbformat_minor": 0,
  "metadata": {
    "colab": {
      "provenance": [],
      "collapsed_sections": []
    },
    "kernelspec": {
      "name": "python3",
      "display_name": "Python 3"
    },
    "language_info": {
      "name": "python"
    }
  },
  "cells": [
    {
      "cell_type": "code",
      "execution_count": 188,
      "metadata": {
        "id": "iZ75y7tAXTPB"
      },
      "outputs": [],
      "source": [
        "import pandas as pd\n",
        "import numpy as np\n",
        "import matplotlib.pyplot as plt\n",
        "import seaborn as sns"
      ]
    },
    {
      "cell_type": "code",
      "source": [
        "# Read retrenchment data\n",
        "df = pd.read_csv(\"retrench_occ_yearly.csv\")\n",
        "# print(\"Retrenchment data read successfully!\")"
      ],
      "metadata": {
        "id": "I5bJJbDCXfvk"
      },
      "execution_count": 189,
      "outputs": []
    },
    {
      "cell_type": "code",
      "source": [
        "df.describe"
      ],
      "metadata": {
        "colab": {
          "base_uri": "https://localhost:8080/"
        },
        "id": "mNyjcU1-QW71",
        "outputId": "3eee6608-cb2a-4b33-b98a-e1273ae2b101"
      },
      "execution_count": 190,
      "outputs": [
        {
          "output_type": "execute_result",
          "data": {
            "text/plain": [
              "<bound method NDFrame.describe of     year                                         occupation  retrench\n",
              "0   1998  professional, managers, executive and technicians      6100\n",
              "1   1998               clerical, sales and services workers      5440\n",
              "2   1998  production and transport operators, cleaners a...     21260\n",
              "3   1999  professional, managers, executive and technicians      3650\n",
              "4   1999               clerical, sales and services workers      3620\n",
              "..   ...                                                ...       ...\n",
              "67  2020               clerical, sales and services workers      8140\n",
              "68  2020  production and transport operators, cleaners a...      5220\n",
              "69  2021  professional, managers, executive and technicians      5870\n",
              "70  2021               clerical, sales and services workers      1220\n",
              "71  2021  production and transport operators, cleaners a...       940\n",
              "\n",
              "[72 rows x 3 columns]>"
            ]
          },
          "metadata": {},
          "execution_count": 190
        }
      ]
    },
    {
      "cell_type": "code",
      "source": [
        "# Prints the count, mean, std, min, lowerQ, median, upperQ, max\n",
        "# Describe function only takes in float or integer values\n",
        "df['retrench'].describe()"
      ],
      "metadata": {
        "colab": {
          "base_uri": "https://localhost:8080/"
        },
        "id": "GG0mMiun7A82",
        "outputId": "f908807f-75d1-4424-e672-bab056bf7af0"
      },
      "execution_count": 191,
      "outputs": [
        {
          "output_type": "execute_result",
          "data": {
            "text/plain": [
              "count       72.000000\n",
              "mean      5130.555556\n",
              "std       3598.147759\n",
              "min        940.000000\n",
              "25%       2457.500000\n",
              "50%       4510.000000\n",
              "75%       6642.500000\n",
              "max      21260.000000\n",
              "Name: retrench, dtype: float64"
            ]
          },
          "metadata": {},
          "execution_count": 191
        }
      ]
    },
    {
      "cell_type": "code",
      "source": [
        "null = df.isna().sum()\n",
        "# print(null)"
      ],
      "metadata": {
        "id": "UrOiVK_bkw2a"
      },
      "execution_count": 192,
      "outputs": []
    },
    {
      "cell_type": "code",
      "source": [
        "# Print in the recent 10 years from 2012 to 2021\n",
        "df2 = df.loc[(df['year'] >= 2017) & (df['year'] <= 2021)]\n",
        "print(df2)"
      ],
      "metadata": {
        "colab": {
          "base_uri": "https://localhost:8080/"
        },
        "id": "pbCHT0ADXmnb",
        "outputId": "cd01cafc-a7cc-436d-8e28-cfdaa110f4e7"
      },
      "execution_count": 193,
      "outputs": [
        {
          "output_type": "stream",
          "name": "stdout",
          "text": [
            "    year                                         occupation  retrench\n",
            "57  2017  professional, managers, executive and technicians      8700\n",
            "58  2017               clerical, sales and services workers      1550\n",
            "59  2017  production and transport operators, cleaners a...      4480\n",
            "60  2018  professional, managers, executive and technicians      6980\n",
            "61  2018               clerical, sales and services workers      1230\n",
            "62  2018  production and transport operators, cleaners a...      2510\n",
            "63  2019  professional, managers, executive and technicians      6500\n",
            "64  2019               clerical, sales and services workers      1420\n",
            "65  2019  production and transport operators, cleaners a...      2770\n",
            "66  2020  professional, managers, executive and technicians     12750\n",
            "67  2020               clerical, sales and services workers      8140\n",
            "68  2020  production and transport operators, cleaners a...      5220\n",
            "69  2021  professional, managers, executive and technicians      5870\n",
            "70  2021               clerical, sales and services workers      1220\n",
            "71  2021  production and transport operators, cleaners a...       940\n"
          ]
        }
      ]
    },
    {
      "cell_type": "code",
      "source": [
        "# There are 3 different hierarchy positions\n",
        "df2[\"occupation\"].nunique()"
      ],
      "metadata": {
        "colab": {
          "base_uri": "https://localhost:8080/"
        },
        "id": "mSviixk5XuAc",
        "outputId": "a385c124-5fdd-473a-b9f7-9f98f9b14eac"
      },
      "execution_count": 194,
      "outputs": [
        {
          "output_type": "execute_result",
          "data": {
            "text/plain": [
              "3"
            ]
          },
          "metadata": {},
          "execution_count": 194
        }
      ]
    },
    {
      "cell_type": "code",
      "source": [
        "#These are the most common job titles that are being retrenched from 2012 to 2021\n",
        "df4 = print(df2[\"occupation\"].unique())"
      ],
      "metadata": {
        "colab": {
          "base_uri": "https://localhost:8080/"
        },
        "id": "dIvHSFtfbIq9",
        "outputId": "a591a5ee-7f3e-4b5b-9014-57cdd72ecf1a"
      },
      "execution_count": 195,
      "outputs": [
        {
          "output_type": "stream",
          "name": "stdout",
          "text": [
            "['professional, managers, executive and technicians'\n",
            " 'clerical, sales and services workers'\n",
            " 'production and transport operators, cleaners and labourers']\n"
          ]
        }
      ]
    },
    {
      "cell_type": "code",
      "source": [
        "# Selected 2012 data as an example:\n",
        "# Noticed that the higher-tiered job titles has more people being retrenched as compared to the medium-tiered and low-tiered\n",
        "# Could be due to the high upkeep positions, that requires them to be paid more than the other tiers\n",
        "\n",
        "print(df2[df2[\"year\"] == 2017])"
      ],
      "metadata": {
        "colab": {
          "base_uri": "https://localhost:8080/"
        },
        "id": "4767vnmddift",
        "outputId": "94e9a0b1-494d-404a-a3ef-f5a9d7b46286"
      },
      "execution_count": 196,
      "outputs": [
        {
          "output_type": "stream",
          "name": "stdout",
          "text": [
            "    year                                         occupation  retrench\n",
            "57  2017  professional, managers, executive and technicians      8700\n",
            "58  2017               clerical, sales and services workers      1550\n",
            "59  2017  production and transport operators, cleaners a...      4480\n"
          ]
        }
      ]
    },
    {
      "cell_type": "code",
      "source": [
        "# Sort the retrenchment rate from the lowest to the highest value\n",
        "df5 = df2.sort_values(by = ['retrench'])\n",
        "print(df5)"
      ],
      "metadata": {
        "id": "seQmE4B6eCxJ",
        "colab": {
          "base_uri": "https://localhost:8080/"
        },
        "outputId": "ce0d4d04-ab7f-4164-d84c-a5bec303ffe8"
      },
      "execution_count": 197,
      "outputs": [
        {
          "output_type": "stream",
          "name": "stdout",
          "text": [
            "    year                                         occupation  retrench\n",
            "71  2021  production and transport operators, cleaners a...       940\n",
            "70  2021               clerical, sales and services workers      1220\n",
            "61  2018               clerical, sales and services workers      1230\n",
            "64  2019               clerical, sales and services workers      1420\n",
            "58  2017               clerical, sales and services workers      1550\n",
            "62  2018  production and transport operators, cleaners a...      2510\n",
            "65  2019  production and transport operators, cleaners a...      2770\n",
            "59  2017  production and transport operators, cleaners a...      4480\n",
            "68  2020  production and transport operators, cleaners a...      5220\n",
            "69  2021  professional, managers, executive and technicians      5870\n",
            "63  2019  professional, managers, executive and technicians      6500\n",
            "60  2018  professional, managers, executive and technicians      6980\n",
            "67  2020               clerical, sales and services workers      8140\n",
            "57  2017  professional, managers, executive and technicians      8700\n",
            "66  2020  professional, managers, executive and technicians     12750\n"
          ]
        }
      ]
    },
    {
      "cell_type": "code",
      "source": [
        "# Let's take a look at the highest-tier 'professional, managers, executive and technicians', for example:\n",
        "# As reflected in the data, 2020 is the peak of the pandemic outbreak \n",
        "# 2020 has the highest retrenchment rate amongst the recent 10 years while by 2021, it is the lowest (recovered)\n",
        "df6 = print(df5[df5['occupation'] == 'professional, managers, executive and technicians'])"
      ],
      "metadata": {
        "colab": {
          "base_uri": "https://localhost:8080/"
        },
        "id": "852Bz1Q4b1KW",
        "outputId": "f1556c2d-f2d9-4909-9e6e-4ded960d20e0"
      },
      "execution_count": 198,
      "outputs": [
        {
          "output_type": "stream",
          "name": "stdout",
          "text": [
            "    year                                         occupation  retrench\n",
            "69  2021  professional, managers, executive and technicians      5870\n",
            "63  2019  professional, managers, executive and technicians      6500\n",
            "60  2018  professional, managers, executive and technicians      6980\n",
            "57  2017  professional, managers, executive and technicians      8700\n",
            "66  2020  professional, managers, executive and technicians     12750\n"
          ]
        }
      ]
    },
    {
      "cell_type": "code",
      "source": [
        "# Let's take a look at the medium-tier 'clerical, sales and services workers', for example:\n",
        "# As reflected in the data, 2020 is the peak of the pandemic outbreak \n",
        "# 2020 has the highest retrenchment rate amongst the recent while by 2021, it is the lowest (recovered)\n",
        "df7 = print(df5[df5['occupation'] == 'clerical, sales and services workers'])"
      ],
      "metadata": {
        "colab": {
          "base_uri": "https://localhost:8080/"
        },
        "id": "u9UCxfBqA31I",
        "outputId": "f840e5d0-33a5-43e2-d249-18575c0a2e08"
      },
      "execution_count": 199,
      "outputs": [
        {
          "output_type": "stream",
          "name": "stdout",
          "text": [
            "    year                            occupation  retrench\n",
            "70  2021  clerical, sales and services workers      1220\n",
            "61  2018  clerical, sales and services workers      1230\n",
            "64  2019  clerical, sales and services workers      1420\n",
            "58  2017  clerical, sales and services workers      1550\n",
            "67  2020  clerical, sales and services workers      8140\n"
          ]
        }
      ]
    },
    {
      "cell_type": "code",
      "source": [
        "# Let's take a look at the lowest-tier 'production and transport operators, cleaners and labourers', for example:\n",
        "# As reflected in the data, 2020 is the peak of the pandemic outbreak \n",
        "# 2020 is one of the highest retrenchment rate amongst the recent 10 years while by 2021, it is the lowest (recovered)\n",
        "\n",
        "# It could be due to the fact of it being under a 'lower-paying' job as compared to the higher-tiered and medium-tiered jobs\n",
        "# Hence, the lower-tiered job will not have as much impact to companies as compared to the higher-paid ones\n",
        "# Therefore, letting go of '1 Manager' == letting go of '3 Cleaners'\n",
        "\n",
        "df8 = print(df5[df5['occupation'] =='production and transport operators, cleaners and labourers'])"
      ],
      "metadata": {
        "colab": {
          "base_uri": "https://localhost:8080/"
        },
        "id": "mVkZXGRNA4AM",
        "outputId": "1b4cbf17-b5ac-4547-c294-18d4d7d92d58"
      },
      "execution_count": 200,
      "outputs": [
        {
          "output_type": "stream",
          "name": "stdout",
          "text": [
            "    year                                         occupation  retrench\n",
            "71  2021  production and transport operators, cleaners a...       940\n",
            "62  2018  production and transport operators, cleaners a...      2510\n",
            "65  2019  production and transport operators, cleaners a...      2770\n",
            "59  2017  production and transport operators, cleaners a...      4480\n",
            "68  2020  production and transport operators, cleaners a...      5220\n"
          ]
        }
      ]
    },
    {
      "cell_type": "code",
      "source": [
        "# Option 3: Look at the retrenchment rate after Covid-19. \n",
        "# Option 2: Look at the retrenchment rate during Covid-19. \n",
        "# Option 1: Look at the retrenchment rate before Covid-19."
      ],
      "metadata": {
        "id": "N6XZZS6_lPfY"
      },
      "execution_count": 201,
      "outputs": []
    },
    {
      "cell_type": "code",
      "source": [
        "# Option a). Look at the retrenchment rate before Covid-19.\n",
        "df9 = df5.loc[(df['year'] >= 2017) & (df['year'] <= 2019)]\n",
        "print(df9)"
      ],
      "metadata": {
        "colab": {
          "base_uri": "https://localhost:8080/"
        },
        "id": "N-ayltNV1Mq2",
        "outputId": "e9204799-d906-447f-c7e2-2b729d8703a9"
      },
      "execution_count": 202,
      "outputs": [
        {
          "output_type": "stream",
          "name": "stdout",
          "text": [
            "    year                                         occupation  retrench\n",
            "61  2018               clerical, sales and services workers      1230\n",
            "64  2019               clerical, sales and services workers      1420\n",
            "58  2017               clerical, sales and services workers      1550\n",
            "62  2018  production and transport operators, cleaners a...      2510\n",
            "65  2019  production and transport operators, cleaners a...      2770\n",
            "59  2017  production and transport operators, cleaners a...      4480\n",
            "63  2019  professional, managers, executive and technicians      6500\n",
            "60  2018  professional, managers, executive and technicians      6980\n",
            "57  2017  professional, managers, executive and technicians      8700\n"
          ]
        }
      ]
    },
    {
      "cell_type": "code",
      "source": [
        "# Option b). Look at the retrenchment rate during Covid-19.\n",
        "df10 = df5.loc[(df['year'] == 2020)]\n",
        "print(df10)"
      ],
      "metadata": {
        "colab": {
          "base_uri": "https://localhost:8080/"
        },
        "id": "MghFk6hX19_q",
        "outputId": "8e8c3e1a-0706-4c22-caf0-fbe13ed64b36"
      },
      "execution_count": 203,
      "outputs": [
        {
          "output_type": "stream",
          "name": "stdout",
          "text": [
            "    year                                         occupation  retrench\n",
            "68  2020  production and transport operators, cleaners a...      5220\n",
            "67  2020               clerical, sales and services workers      8140\n",
            "66  2020  professional, managers, executive and technicians     12750\n"
          ]
        }
      ]
    },
    {
      "cell_type": "code",
      "source": [
        "# Option c). Look at the retrenchment rate for the post-recovery Covid-19.\n",
        "df11 = df5.loc[(df['year'] == 2021)]\n",
        "print(df11)"
      ],
      "metadata": {
        "colab": {
          "base_uri": "https://localhost:8080/"
        },
        "id": "X2bb3Q472K2x",
        "outputId": "56ade88c-073e-428b-d41f-0782accc7dbb"
      },
      "execution_count": 204,
      "outputs": [
        {
          "output_type": "stream",
          "name": "stdout",
          "text": [
            "    year                                         occupation  retrench\n",
            "71  2021  production and transport operators, cleaners a...       940\n",
            "70  2021               clerical, sales and services workers      1220\n",
            "69  2021  professional, managers, executive and technicians      5870\n"
          ]
        }
      ]
    },
    {
      "cell_type": "code",
      "source": [
        "# Created a boxplot to help me identify an outlier\n",
        "\n",
        "# It could be due to the fact of it being under a 'lower-paying' job as compared to the higher-tiered and medium-tiered jobs\n",
        "# Hence, the lower-tiered job will not have as much impact to companies as compared to the higher-paid ones\n",
        "# Therefore, letting go of '1 Manager' == letting go of '3 Cleaners'\n",
        "plt.rcParams['figure.figsize']=(17,7)\n",
        "df5.boxplot(column='retrench', by='occupation')\n",
        "plt.show()\n"
      ],
      "metadata": {
        "colab": {
          "base_uri": "https://localhost:8080/",
          "height": 480
        },
        "id": "9u0Xt0dW_KNc",
        "outputId": "1f168d82-5d2d-4bd9-8175-2d43c5af59e2"
      },
      "execution_count": 206,
      "outputs": [
        {
          "output_type": "display_data",
          "data": {
            "text/plain": [
              "<Figure size 1224x504 with 1 Axes>"
            ],
            "image/png": "[encoded data removed]"
          },
          "metadata": {
            "needs_background": "light"
          }
        }
      ]
    },
    {
      "cell_type": "code",
      "source": [
        "# Let's take a look at the retrenchment rate over the years by occupation\n",
        "sns.set(style=\"whitegrid\")\n",
        "# sns.set_theme(style=\"darkgrid\")\n",
        "sns.barplot(data=df5, x=\"year\", y=\"retrench\", hue=\"occupation\", palette=\"pastel\")"
      ],
      "metadata": {
        "colab": {
          "base_uri": "https://localhost:8080/",
          "height": 466
        },
        "id": "KDvButGsRBZJ",
        "outputId": "a71af649-f8df-4b05-f645-1c5cafc8aab9"
      },
      "execution_count": 279,
      "outputs": [
        {
          "output_type": "execute_result",
          "data": {
            "text/plain": [
              "<matplotlib.axes._subplots.AxesSubplot at 0x7f653b253190>"
            ]
          },
          "metadata": {},
          "execution_count": 279
        },
        {
          "output_type": "display_data",
          "data": {
            "text/plain": [
              "<Figure size 1224x504 with 1 Axes>"
            ],
            "image/png": "[encoded data removed]"
          },
          "metadata": {}
        }
      ]
    }
  ]
}