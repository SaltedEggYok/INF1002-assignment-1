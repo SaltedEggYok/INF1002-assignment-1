{
 "cells": [
  {
   "cell_type": "code",
   "execution_count": 1,
   "id": "da4f7932",
   "metadata": {},
   "outputs": [],
   "source": [
    "import pandas as pd                                                         #to clean and filter data\n",
    "import numpy as np                                                         #for using data as array\n",
    "import matplotlib.pyplot as plt                                           #for plotting graph of x,y\n",
    "\n",
    "import sklearn\n",
    "from sklearn import datasets, linear_model                               #for model we want to predict by\n",
    "from sklearn.linear_model import LinearRegression                       #for model we want to predict by\n",
    "from sklearn.metrics import mean_squared_error, r2_score               #for mean error and variance calculation\n",
    "from sklearn.model_selection import train_test_split                  #spltting training and testing sets"
   ]
  },
  {
   "cell_type": "code",
   "execution_count": 2,
   "id": "f7b22293",
   "metadata": {},
   "outputs": [],
   "source": [
    "#retrieving and reading CSV using pandas library\n",
    "\n",
    "world = pd.read_csv(r'covid-vaccination-vs-death_ratio.csv')\n",
    "\n",
    "#displays up to 50 columns\n",
    "\n",
    "pd.set_option('display.max_columns', 50)   \n",
    "\n",
    "#displays up to 20000 rows\n",
    "\n",
    "pd.set_option('display.max_rows', 100)"
   ]
  },
  {
   "cell_type": "code",
   "execution_count": 3,
   "id": "26403015",
   "metadata": {},
   "outputs": [],
   "source": [
    "#groups up all the similar names under the column, 'country'\n",
    "\n",
    "count = world.groupby(['country'])"
   ]
  },
  {
   "cell_type": "code",
   "execution_count": 4,
   "id": "73b50535",
   "metadata": {},
   "outputs": [],
   "source": [
    "#displays only the latest max data for each group. Also, set to variable 'cleaning'\n",
    "\n",
    "cleaning = count.max()              "
   ]
  },
  {
   "cell_type": "code",
   "execution_count": 5,
   "id": "42b14902",
   "metadata": {},
   "outputs": [],
   "source": [
    "#drop all the columns that are unnecesarily\n",
    "\n",
    "cleaning.drop(columns=['date'], inplace=True)\n",
    "cleaning.drop(columns=['Unnamed: 0','iso_code'], inplace=True)\n",
    "cleaning.drop(columns=['New_deaths'], inplace=True)"
   ]
  },
  {
   "cell_type": "code",
   "execution_count": 6,
   "id": "5dd654d1",
   "metadata": {},
   "outputs": [],
   "source": [
    "#sort from the largest percentage of vaccinated people in descending order\n",
    "\n",
    "sorting = cleaning.sort_values('Percantage of vaccinated ppl', ascending=False)"
   ]
  },
  {
   "cell_type": "code",
   "execution_count": 7,
   "id": "b60a9dff",
   "metadata": {},
   "outputs": [
    {
     "data": {
      "text/html": [
       "<div>\n",
       "<style scoped>\n",
       "    .dataframe tbody tr th:only-of-type {\n",
       "        vertical-align: middle;\n",
       "    }\n",
       "\n",
       "    .dataframe tbody tr th {\n",
       "        vertical-align: top;\n",
       "    }\n",
       "\n",
       "    .dataframe thead th {\n",
       "        text-align: right;\n",
       "    }\n",
       "</style>\n",
       "<table border=\"1\" class=\"dataframe\">\n",
       "  <thead>\n",
       "    <tr style=\"text-align: right;\">\n",
       "      <th></th>\n",
       "      <th>total_vaccinations</th>\n",
       "      <th>people_vaccinated</th>\n",
       "      <th>people_fully_vaccinated</th>\n",
       "      <th>population</th>\n",
       "      <th>ratio</th>\n",
       "      <th>Percantage of vaccinated ppl</th>\n",
       "    </tr>\n",
       "    <tr>\n",
       "      <th>country</th>\n",
       "      <th></th>\n",
       "      <th></th>\n",
       "      <th></th>\n",
       "      <th></th>\n",
       "      <th></th>\n",
       "      <th></th>\n",
       "    </tr>\n",
       "  </thead>\n",
       "  <tbody>\n",
       "    <tr>\n",
       "      <th>Gibraltar</th>\n",
       "      <td>116358</td>\n",
       "      <td>42034</td>\n",
       "      <td>41228</td>\n",
       "      <td>33698</td>\n",
       "      <td>124.737373</td>\n",
       "      <td>122.345540</td>\n",
       "    </tr>\n",
       "    <tr>\n",
       "      <th>Malta</th>\n",
       "      <td>1255851</td>\n",
       "      <td>473639</td>\n",
       "      <td>466296</td>\n",
       "      <td>443646</td>\n",
       "      <td>106.760570</td>\n",
       "      <td>105.105422</td>\n",
       "    </tr>\n",
       "    <tr>\n",
       "      <th>United Arab Emirates</th>\n",
       "      <td>24463702</td>\n",
       "      <td>9890318</td>\n",
       "      <td>9603499</td>\n",
       "      <td>10051436</td>\n",
       "      <td>98.397065</td>\n",
       "      <td>95.543552</td>\n",
       "    </tr>\n",
       "    <tr>\n",
       "      <th>Portugal</th>\n",
       "      <td>22923599</td>\n",
       "      <td>9663542</td>\n",
       "      <td>9415073</td>\n",
       "      <td>10150252</td>\n",
       "      <td>95.204947</td>\n",
       "      <td>92.757037</td>\n",
       "    </tr>\n",
       "    <tr>\n",
       "      <th>Brunei Darussalam</th>\n",
       "      <td>1068468</td>\n",
       "      <td>407945</td>\n",
       "      <td>404935</td>\n",
       "      <td>443903</td>\n",
       "      <td>91.899582</td>\n",
       "      <td>91.221506</td>\n",
       "    </tr>\n",
       "    <tr>\n",
       "      <th>...</th>\n",
       "      <td>...</td>\n",
       "      <td>...</td>\n",
       "      <td>...</td>\n",
       "      <td>...</td>\n",
       "      <td>...</td>\n",
       "      <td>...</td>\n",
       "    </tr>\n",
       "    <tr>\n",
       "      <th>Papua New Guinea</th>\n",
       "      <td>574716</td>\n",
       "      <td>317150</td>\n",
       "      <td>257566</td>\n",
       "      <td>9220306</td>\n",
       "      <td>3.439691</td>\n",
       "      <td>2.793465</td>\n",
       "    </tr>\n",
       "    <tr>\n",
       "      <th>Yemen</th>\n",
       "      <td>807502</td>\n",
       "      <td>643501</td>\n",
       "      <td>404781</td>\n",
       "      <td>30882462</td>\n",
       "      <td>2.083710</td>\n",
       "      <td>1.310715</td>\n",
       "    </tr>\n",
       "    <tr>\n",
       "      <th>Haiti</th>\n",
       "      <td>249801</td>\n",
       "      <td>163710</td>\n",
       "      <td>112335</td>\n",
       "      <td>11623799</td>\n",
       "      <td>1.408404</td>\n",
       "      <td>0.966422</td>\n",
       "    </tr>\n",
       "    <tr>\n",
       "      <th>Chad</th>\n",
       "      <td>419469</td>\n",
       "      <td>282003</td>\n",
       "      <td>153238</td>\n",
       "      <td>17203787</td>\n",
       "      <td>1.639191</td>\n",
       "      <td>0.890722</td>\n",
       "    </tr>\n",
       "    <tr>\n",
       "      <th>Burundi</th>\n",
       "      <td>12166</td>\n",
       "      <td>10372</td>\n",
       "      <td>9906</td>\n",
       "      <td>12469663</td>\n",
       "      <td>0.083178</td>\n",
       "      <td>0.079441</td>\n",
       "    </tr>\n",
       "  </tbody>\n",
       "</table>\n",
       "<p>197 rows × 6 columns</p>\n",
       "</div>"
      ],
      "text/plain": [
       "                      total_vaccinations  people_vaccinated  \\\n",
       "country                                                       \n",
       "Gibraltar                         116358              42034   \n",
       "Malta                            1255851             473639   \n",
       "United Arab Emirates            24463702            9890318   \n",
       "Portugal                        22923599            9663542   \n",
       "Brunei Darussalam                1068468             407945   \n",
       "...                                  ...                ...   \n",
       "Papua New Guinea                  574716             317150   \n",
       "Yemen                             807502             643501   \n",
       "Haiti                             249801             163710   \n",
       "Chad                              419469             282003   \n",
       "Burundi                            12166              10372   \n",
       "\n",
       "                      people_fully_vaccinated  population       ratio  \\\n",
       "country                                                                 \n",
       "Gibraltar                               41228       33698  124.737373   \n",
       "Malta                                  466296      443646  106.760570   \n",
       "United Arab Emirates                  9603499    10051436   98.397065   \n",
       "Portugal                              9415073    10150252   95.204947   \n",
       "Brunei Darussalam                      404935      443903   91.899582   \n",
       "...                                       ...         ...         ...   \n",
       "Papua New Guinea                       257566     9220306    3.439691   \n",
       "Yemen                                  404781    30882462    2.083710   \n",
       "Haiti                                  112335    11623799    1.408404   \n",
       "Chad                                   153238    17203787    1.639191   \n",
       "Burundi                                  9906    12469663    0.083178   \n",
       "\n",
       "                      Percantage of vaccinated ppl  \n",
       "country                                             \n",
       "Gibraltar                               122.345540  \n",
       "Malta                                   105.105422  \n",
       "United Arab Emirates                     95.543552  \n",
       "Portugal                                 92.757037  \n",
       "Brunei Darussalam                        91.221506  \n",
       "...                                            ...  \n",
       "Papua New Guinea                          2.793465  \n",
       "Yemen                                     1.310715  \n",
       "Haiti                                     0.966422  \n",
       "Chad                                      0.890722  \n",
       "Burundi                                   0.079441  \n",
       "\n",
       "[197 rows x 6 columns]"
      ]
     },
     "execution_count": 7,
     "metadata": {},
     "output_type": "execute_result"
    }
   ],
   "source": [
    "#setting a condition that only population with more than 1,000 should be displayed, calling it 'df1'.\n",
    "\n",
    "df1 = sorting[(sorting.filter(like='population') > 1000).any(axis=1)]\n",
    "\n",
    "df1 #this result shows a good statistics on vaccination vs death ratio in descending order for the latest date."
   ]
  },
  {
   "cell_type": "code",
   "execution_count": 8,
   "id": "2b27c071",
   "metadata": {},
   "outputs": [],
   "source": [
    "#splitting to independent (x) and dependent (y) variables\n",
    "\n",
    "x=df1.iloc[:,4].values\n",
    "y=df1.iloc[:,5].values"
   ]
  },
  {
   "cell_type": "code",
   "execution_count": 9,
   "id": "68de0002",
   "metadata": {},
   "outputs": [],
   "source": [
    "#train and test data split\n",
    "\n",
    "x_train, x_test, y_train, y_test = train_test_split(x, y, test_size = 1/3, random_state = 0)"
   ]
  },
  {
   "cell_type": "code",
   "execution_count": 10,
   "id": "cba86fa2",
   "metadata": {},
   "outputs": [],
   "source": [
    "#reshaping array to convert from 1D to 2D array\n",
    "\n",
    "x_test=x_test.reshape(-1,1)\n",
    "x_train=x_train.reshape(-1,1)"
   ]
  },
  {
   "cell_type": "code",
   "execution_count": 11,
   "id": "2fe5dd11",
   "metadata": {},
   "outputs": [],
   "source": [
    "#Variable 'lin_reg' is our model calling model 'linearegression() function'\n",
    "\n",
    "lin_reg=linear_model.LinearRegression()"
   ]
  },
  {
   "cell_type": "code",
   "execution_count": 12,
   "id": "e8ea9844",
   "metadata": {},
   "outputs": [
    {
     "data": {
      "text/plain": [
       "LinearRegression()"
      ]
     },
     "execution_count": 12,
     "metadata": {},
     "output_type": "execute_result"
    }
   ],
   "source": [
    "#fitting our data in linear regression model\n",
    "lin_reg.fit(x_train,y_train)\n"
   ]
  },
  {
   "cell_type": "code",
   "execution_count": 13,
   "id": "56b65d31",
   "metadata": {},
   "outputs": [
    {
     "name": "stdout",
     "output_type": "stream",
     "text": [
      "coefficients:\n",
      " [0.96308266]\n",
      "Intercept:\n",
      " -3.1850313238922823\n",
      "Mean squared error: 27.52\n",
      "Variance score: 0.96\n"
     ]
    }
   ],
   "source": [
    "#making predictions\n",
    "\n",
    "lin_reg_pred=lin_reg.predict(x_test)\n",
    "\n",
    "\n",
    "#coef and intercept are coefficients and intercept respectively for y=mx+c graph in our model.\n",
    "\n",
    "print(\"coefficients:\\n\",lin_reg.coef_)\n",
    "print(\"Intercept:\\n\",lin_reg.intercept_)\n",
    "\n",
    "#the mean squared error\n",
    "\n",
    "print(\"Mean squared error: %.2f\"\n",
    "      % mean_squared_error(y_test, lin_reg_pred))\n",
    "\n",
    "#explained the variance score: 1 is perfect prediction\n",
    "\n",
    "print('Variance score: %.2f' % r2_score(y_test, lin_reg_pred))"
   ]
  },
  {
   "cell_type": "code",
   "execution_count": 14,
   "id": "9bc96f71",
   "metadata": {},
   "outputs": [
    {
     "data": {
      "image/png": "[encoded data removed]",
      "text/plain": [
       "<Figure size 432x288 with 1 Axes>"
      ]
     },
     "metadata": {
      "needs_background": "light"
     },
     "output_type": "display_data"
    }
   ],
   "source": [
    "#plotting the graph for test dataset\n",
    "\n",
    "plt.scatter(x_test, y_test, color = 'red')\n",
    "plt.plot(x_test, lin_reg_pred, color = 'blue')\n",
    "plt.title('Death Ratio vs Vaccinated People In A Country(%)')\n",
    "plt.xlabel('Death Ratio')\n",
    "plt.ylabel('Vaccinated People in a Country(%)')\n",
    "plt.show()"
   ]
  }
 ],
 "metadata": {
  "kernelspec": {
   "display_name": "Python 3 (ipykernel)",
   "language": "python",
   "name": "python3"
  },
  "language_info": {
   "codemirror_mode": {
    "name": "ipython",
    "version": 3
   },
   "file_extension": ".py",
   "mimetype": "text/x-python",
   "name": "python",
   "nbconvert_exporter": "python",
   "pygments_lexer": "ipython3",
   "version": "3.9.12"
  }
 },
 "nbformat": 4,
 "nbformat_minor": 5
}
