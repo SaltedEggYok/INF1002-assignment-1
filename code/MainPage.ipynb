{
 "cells": [
  {
   "cell_type": "code",
   "execution_count": 1,
   "id": "33a07fcd-ae35-4eb8-9571-22f449935273",
   "metadata": {},
   "outputs": [],
   "source": [
    "from dash import Dash, html, dcc\n",
    "import plotly.express as px\n",
    "import pandas as pd"
   ]
  },
  {
   "cell_type": "code",
   "execution_count": 2,
   "id": "bb7d2fe4-9b18-494e-a271-319822b5f2e9",
   "metadata": {},
   "outputs": [],
   "source": [
    "app = Dash(__name__)"
   ]
  },
  {
   "cell_type": "code",
   "execution_count": 3,
   "id": "4e59135d-1126-42ef-9b05-3abc13df1291",
   "metadata": {},
   "outputs": [],
   "source": [
    "#assume you have a \"long-form\" data frame\n",
    "dataFrame = pd.DataFrame({\n",
    "    \"Fruit\" : [ \"Apples\", \"Oranges\", \"Bananas\", \"Apples\", \"Oranges\", \"Bananas\"],\n",
    "    \"Amount\" : [4,1,2,2,4,5],\n",
    "    \"City\" : [\"SF\",\"SF\",\"SF\",\"Montreal\",\"Montreal\",\"Montreal\"]\n",
    "})\n",
    "\n",
    "figure1 = px.bar(dataFrame, x = \"Fruit\", y=\"Amount\", color = \"City\", barmode = \"group\")"
   ]
  },
  {
   "cell_type": "code",
   "execution_count": 4,
   "id": "27e59382-7711-4f64-92c7-0b0f576a1236",
   "metadata": {},
   "outputs": [],
   "source": [
    "app.laout = html.Div(children = [\n",
    "    html.H1(children = 'Hello Dash'),\n",
    "    html.Div(children= '''Dash: A web application framework for your data'''),\n",
    "    dcc.Graph(id= 'example-graph', figure=figure1)\n",
    "])"
   ]
  },
  {
   "cell_type": "code",
   "execution_count": null,
   "id": "cc4be90e-eacf-4bbf-9dc1-3c78c951fa98",
   "metadata": {},
   "outputs": [
    {
     "name": "stdout",
     "output_type": "stream",
     "text": [
      "Dash is running on http://127.0.0.1:8050/\n",
      "\n",
      " * Serving Flask app \"__main__\" (lazy loading)\n",
      " * Environment: production\n",
      "\u001b[31m   WARNING: This is a development server. Do not use it in a production deployment.\u001b[0m\n",
      "\u001b[2m   Use a production WSGI server instead.\u001b[0m\n",
      " * Debug mode: off\n"
     ]
    },
    {
     "name": "stderr",
     "output_type": "stream",
     "text": [
      " * Running on http://127.0.0.1:8050/ (Press CTRL+C to quit)\n"
     ]
    },
    {
     "name": "stdout",
     "output_type": "stream",
     "text": [
      "Exception on / [GET]\n",
      "Traceback (most recent call last):\n",
      "  File \"C:\\Users\\wongy\\anaconda3\\lib\\site-packages\\flask\\app.py\", line 2447, in wsgi_app\n",
      "    response = self.full_dispatch_request()\n",
      "  File \"C:\\Users\\wongy\\anaconda3\\lib\\site-packages\\flask\\app.py\", line 1945, in full_dispatch_request\n",
      "    self.try_trigger_before_first_request_functions()\n",
      "  File \"C:\\Users\\wongy\\anaconda3\\lib\\site-packages\\flask\\app.py\", line 1993, in try_trigger_before_first_request_functions\n",
      "    func()\n",
      "  File \"C:\\Users\\wongy\\anaconda3\\lib\\site-packages\\dash\\dash.py\", line 1288, in _setup_server\n",
      "    _validate.validate_layout(self.layout, self._layout_value())\n",
      "  File \"C:\\Users\\wongy\\anaconda3\\lib\\site-packages\\dash\\_validate.py\", line 393, in validate_layout\n",
      "    raise exceptions.NoLayoutException(\n",
      "dash.exceptions.NoLayoutException: The layout was `None` at the time that `run_server` was called.\n",
      "Make sure to set the `layout` attribute of your application\n",
      "before running the server.\n"
     ]
    },
    {
     "name": "stderr",
     "output_type": "stream",
     "text": [
      "127.0.0.1 - - [17/Sep/2022 18:27:42] \"GET / HTTP/1.1\" 500 -\n"
     ]
    },
    {
     "name": "stdout",
     "output_type": "stream",
     "text": [
      "Exception on /favicon.ico [GET]\n",
      "Traceback (most recent call last):\n",
      "  File \"C:\\Users\\wongy\\anaconda3\\lib\\site-packages\\flask\\app.py\", line 2447, in wsgi_app\n",
      "    response = self.full_dispatch_request()\n",
      "  File \"C:\\Users\\wongy\\anaconda3\\lib\\site-packages\\flask\\app.py\", line 1945, in full_dispatch_request\n",
      "    self.try_trigger_before_first_request_functions()\n",
      "  File \"C:\\Users\\wongy\\anaconda3\\lib\\site-packages\\flask\\app.py\", line 1993, in try_trigger_before_first_request_functions\n",
      "    func()\n",
      "  File \"C:\\Users\\wongy\\anaconda3\\lib\\site-packages\\dash\\dash.py\", line 1288, in _setup_server\n",
      "    _validate.validate_layout(self.layout, self._layout_value())\n",
      "  File \"C:\\Users\\wongy\\anaconda3\\lib\\site-packages\\dash\\_validate.py\", line 393, in validate_layout\n",
      "    raise exceptions.NoLayoutException(\n",
      "dash.exceptions.NoLayoutException: The layout was `None` at the time that `run_server` was called.\n",
      "Make sure to set the `layout` attribute of your application\n",
      "before running the server.\n"
     ]
    },
    {
     "name": "stderr",
     "output_type": "stream",
     "text": [
      "127.0.0.1 - - [17/Sep/2022 18:27:43] \"GET /favicon.ico HTTP/1.1\" 500 -\n"
     ]
    },
    {
     "name": "stdout",
     "output_type": "stream",
     "text": [
      "Exception on / [GET]\n",
      "Traceback (most recent call last):\n",
      "  File \"C:\\Users\\wongy\\anaconda3\\lib\\site-packages\\flask\\app.py\", line 2447, in wsgi_app\n",
      "    response = self.full_dispatch_request()\n",
      "  File \"C:\\Users\\wongy\\anaconda3\\lib\\site-packages\\flask\\app.py\", line 1945, in full_dispatch_request\n",
      "    self.try_trigger_before_first_request_functions()\n",
      "  File \"C:\\Users\\wongy\\anaconda3\\lib\\site-packages\\flask\\app.py\", line 1993, in try_trigger_before_first_request_functions\n",
      "    func()\n",
      "  File \"C:\\Users\\wongy\\anaconda3\\lib\\site-packages\\dash\\dash.py\", line 1288, in _setup_server\n",
      "    _validate.validate_layout(self.layout, self._layout_value())\n",
      "  File \"C:\\Users\\wongy\\anaconda3\\lib\\site-packages\\dash\\_validate.py\", line 393, in validate_layout\n",
      "    raise exceptions.NoLayoutException(\n",
      "dash.exceptions.NoLayoutException: The layout was `None` at the time that `run_server` was called.\n",
      "Make sure to set the `layout` attribute of your application\n",
      "before running the server.\n"
     ]
    },
    {
     "name": "stderr",
     "output_type": "stream",
     "text": [
      "127.0.0.1 - - [17/Sep/2022 18:27:47] \"GET / HTTP/1.1\" 500 -\n"
     ]
    },
    {
     "name": "stdout",
     "output_type": "stream",
     "text": [
      "Exception on /favicon.ico [GET]\n",
      "Traceback (most recent call last):\n",
      "  File \"C:\\Users\\wongy\\anaconda3\\lib\\site-packages\\flask\\app.py\", line 2447, in wsgi_app\n",
      "    response = self.full_dispatch_request()\n",
      "  File \"C:\\Users\\wongy\\anaconda3\\lib\\site-packages\\flask\\app.py\", line 1945, in full_dispatch_request\n",
      "    self.try_trigger_before_first_request_functions()\n",
      "  File \"C:\\Users\\wongy\\anaconda3\\lib\\site-packages\\flask\\app.py\", line 1993, in try_trigger_before_first_request_functions\n",
      "    func()\n",
      "  File \"C:\\Users\\wongy\\anaconda3\\lib\\site-packages\\dash\\dash.py\", line 1288, in _setup_server\n",
      "    _validate.validate_layout(self.layout, self._layout_value())\n",
      "  File \"C:\\Users\\wongy\\anaconda3\\lib\\site-packages\\dash\\_validate.py\", line 393, in validate_layout\n",
      "    raise exceptions.NoLayoutException(\n",
      "dash.exceptions.NoLayoutException: The layout was `None` at the time that `run_server` was called.\n",
      "Make sure to set the `layout` attribute of your application\n",
      "before running the server.\n"
     ]
    },
    {
     "name": "stderr",
     "output_type": "stream",
     "text": [
      "127.0.0.1 - - [17/Sep/2022 18:27:47] \"GET /favicon.ico HTTP/1.1\" 500 -\n"
     ]
    }
   ],
   "source": [
    "app.run_server()"
   ]
  },
  {
   "cell_type": "code",
   "execution_count": null,
   "id": "b46150e6-12b7-4852-bb51-52d956e0651e",
   "metadata": {},
   "outputs": [],
   "source": []
  }
 ],
 "metadata": {
  "kernelspec": {
   "display_name": "Python 3 (ipykernel)",
   "language": "python",
   "name": "python3"
  },
  "language_info": {
   "codemirror_mode": {
    "name": "ipython",
    "version": 3
   },
   "file_extension": ".py",
   "mimetype": "text/x-python",
   "name": "python",
   "nbconvert_exporter": "python",
   "pygments_lexer": "ipython3",
   "version": "3.9.12"
  }
 },
 "nbformat": 4,
 "nbformat_minor": 5
}
